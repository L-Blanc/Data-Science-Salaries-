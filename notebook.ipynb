{
 "cells": [
  {
   "cell_type": "code",
   "execution_count": 3,
   "metadata": {},
   "outputs": [],
   "source": [
    "import numpy as np \n",
    "import pandas as pd \n",
    "import matplotlib.pyplot as plt"
   ]
  },
  {
   "cell_type": "code",
   "execution_count": 4,
   "metadata": {},
   "outputs": [
    {
     "data": {
      "text/html": [
       "<div>\n",
       "<style scoped>\n",
       "    .dataframe tbody tr th:only-of-type {\n",
       "        vertical-align: middle;\n",
       "    }\n",
       "\n",
       "    .dataframe tbody tr th {\n",
       "        vertical-align: top;\n",
       "    }\n",
       "\n",
       "    .dataframe thead th {\n",
       "        text-align: right;\n",
       "    }\n",
       "</style>\n",
       "<table border=\"1\" class=\"dataframe\">\n",
       "  <thead>\n",
       "    <tr style=\"text-align: right;\">\n",
       "      <th></th>\n",
       "      <th>case_id</th>\n",
       "      <th>experience_level</th>\n",
       "      <th>employment_type</th>\n",
       "      <th>job_title</th>\n",
       "      <th>salary</th>\n",
       "      <th>salary_currency</th>\n",
       "      <th>salary_in_usd</th>\n",
       "      <th>employee_residence</th>\n",
       "      <th>remote_ratio</th>\n",
       "      <th>company_location</th>\n",
       "      <th>company_size</th>\n",
       "    </tr>\n",
       "  </thead>\n",
       "  <tbody>\n",
       "    <tr>\n",
       "      <th>0</th>\n",
       "      <td>0</td>\n",
       "      <td>Mid-level</td>\n",
       "      <td>Full-time</td>\n",
       "      <td>Data Scientist</td>\n",
       "      <td>70000</td>\n",
       "      <td>EUR</td>\n",
       "      <td>79833</td>\n",
       "      <td>Germany</td>\n",
       "      <td>0</td>\n",
       "      <td>Germany</td>\n",
       "      <td>Large</td>\n",
       "    </tr>\n",
       "    <tr>\n",
       "      <th>1</th>\n",
       "      <td>1</td>\n",
       "      <td>Senior-level</td>\n",
       "      <td>Full-time</td>\n",
       "      <td>Machine Learning Scientist</td>\n",
       "      <td>260000</td>\n",
       "      <td>USD</td>\n",
       "      <td>260000</td>\n",
       "      <td>Japan</td>\n",
       "      <td>0</td>\n",
       "      <td>Japan</td>\n",
       "      <td>Small</td>\n",
       "    </tr>\n",
       "    <tr>\n",
       "      <th>2</th>\n",
       "      <td>2</td>\n",
       "      <td>Senior-level</td>\n",
       "      <td>Full-time</td>\n",
       "      <td>Big Data Engineer</td>\n",
       "      <td>85000</td>\n",
       "      <td>GBP</td>\n",
       "      <td>109024</td>\n",
       "      <td>United Kingdom (Great Britain)</td>\n",
       "      <td>50</td>\n",
       "      <td>United Kingdom (Great Britain)</td>\n",
       "      <td>Medium</td>\n",
       "    </tr>\n",
       "    <tr>\n",
       "      <th>3</th>\n",
       "      <td>3</td>\n",
       "      <td>Mid-level</td>\n",
       "      <td>Full-time</td>\n",
       "      <td>Product Data Analyst</td>\n",
       "      <td>20000</td>\n",
       "      <td>USD</td>\n",
       "      <td>20000</td>\n",
       "      <td>Honduras</td>\n",
       "      <td>0</td>\n",
       "      <td>Honduras</td>\n",
       "      <td>Small</td>\n",
       "    </tr>\n",
       "    <tr>\n",
       "      <th>4</th>\n",
       "      <td>4</td>\n",
       "      <td>Senior-level</td>\n",
       "      <td>Full-time</td>\n",
       "      <td>Machine Learning Engineer</td>\n",
       "      <td>150000</td>\n",
       "      <td>USD</td>\n",
       "      <td>150000</td>\n",
       "      <td>United States of America</td>\n",
       "      <td>50</td>\n",
       "      <td>United States of America</td>\n",
       "      <td>Large</td>\n",
       "    </tr>\n",
       "    <tr>\n",
       "      <th>...</th>\n",
       "      <td>...</td>\n",
       "      <td>...</td>\n",
       "      <td>...</td>\n",
       "      <td>...</td>\n",
       "      <td>...</td>\n",
       "      <td>...</td>\n",
       "      <td>...</td>\n",
       "      <td>...</td>\n",
       "      <td>...</td>\n",
       "      <td>...</td>\n",
       "      <td>...</td>\n",
       "    </tr>\n",
       "    <tr>\n",
       "      <th>602</th>\n",
       "      <td>602</td>\n",
       "      <td>Senior-level</td>\n",
       "      <td>Full-time</td>\n",
       "      <td>Data Engineer</td>\n",
       "      <td>154000</td>\n",
       "      <td>USD</td>\n",
       "      <td>154000</td>\n",
       "      <td>United States of America</td>\n",
       "      <td>100</td>\n",
       "      <td>United States of America</td>\n",
       "      <td>Medium</td>\n",
       "    </tr>\n",
       "    <tr>\n",
       "      <th>603</th>\n",
       "      <td>603</td>\n",
       "      <td>Senior-level</td>\n",
       "      <td>Full-time</td>\n",
       "      <td>Data Engineer</td>\n",
       "      <td>126000</td>\n",
       "      <td>USD</td>\n",
       "      <td>126000</td>\n",
       "      <td>United States of America</td>\n",
       "      <td>100</td>\n",
       "      <td>United States of America</td>\n",
       "      <td>Medium</td>\n",
       "    </tr>\n",
       "    <tr>\n",
       "      <th>604</th>\n",
       "      <td>604</td>\n",
       "      <td>Senior-level</td>\n",
       "      <td>Full-time</td>\n",
       "      <td>Data Analyst</td>\n",
       "      <td>129000</td>\n",
       "      <td>USD</td>\n",
       "      <td>129000</td>\n",
       "      <td>United States of America</td>\n",
       "      <td>0</td>\n",
       "      <td>United States of America</td>\n",
       "      <td>Medium</td>\n",
       "    </tr>\n",
       "    <tr>\n",
       "      <th>605</th>\n",
       "      <td>605</td>\n",
       "      <td>Senior-level</td>\n",
       "      <td>Full-time</td>\n",
       "      <td>Data Analyst</td>\n",
       "      <td>150000</td>\n",
       "      <td>USD</td>\n",
       "      <td>150000</td>\n",
       "      <td>United States of America</td>\n",
       "      <td>100</td>\n",
       "      <td>United States of America</td>\n",
       "      <td>Medium</td>\n",
       "    </tr>\n",
       "    <tr>\n",
       "      <th>606</th>\n",
       "      <td>606</td>\n",
       "      <td>Mid-level</td>\n",
       "      <td>Full-time</td>\n",
       "      <td>AI Scientist</td>\n",
       "      <td>200000</td>\n",
       "      <td>USD</td>\n",
       "      <td>200000</td>\n",
       "      <td>India</td>\n",
       "      <td>100</td>\n",
       "      <td>United States of America</td>\n",
       "      <td>Large</td>\n",
       "    </tr>\n",
       "  </tbody>\n",
       "</table>\n",
       "<p>607 rows × 11 columns</p>\n",
       "</div>"
      ],
      "text/plain": [
       "     case_id experience_level employment_type                   job_title  \\\n",
       "0          0        Mid-level       Full-time              Data Scientist   \n",
       "1          1     Senior-level       Full-time  Machine Learning Scientist   \n",
       "2          2     Senior-level       Full-time           Big Data Engineer   \n",
       "3          3        Mid-level       Full-time        Product Data Analyst   \n",
       "4          4     Senior-level       Full-time   Machine Learning Engineer   \n",
       "..       ...              ...             ...                         ...   \n",
       "602      602     Senior-level       Full-time               Data Engineer   \n",
       "603      603     Senior-level       Full-time               Data Engineer   \n",
       "604      604     Senior-level       Full-time                Data Analyst   \n",
       "605      605     Senior-level       Full-time                Data Analyst   \n",
       "606      606        Mid-level       Full-time                AI Scientist   \n",
       "\n",
       "     salary salary_currency  salary_in_usd              employee_residence  \\\n",
       "0     70000             EUR          79833                         Germany   \n",
       "1    260000             USD         260000                           Japan   \n",
       "2     85000             GBP         109024  United Kingdom (Great Britain)   \n",
       "3     20000             USD          20000                        Honduras   \n",
       "4    150000             USD         150000        United States of America   \n",
       "..      ...             ...            ...                             ...   \n",
       "602  154000             USD         154000        United States of America   \n",
       "603  126000             USD         126000        United States of America   \n",
       "604  129000             USD         129000        United States of America   \n",
       "605  150000             USD         150000        United States of America   \n",
       "606  200000             USD         200000                           India   \n",
       "\n",
       "     remote_ratio                company_location company_size  \n",
       "0               0                         Germany        Large  \n",
       "1               0                           Japan        Small  \n",
       "2              50  United Kingdom (Great Britain)       Medium  \n",
       "3               0                        Honduras        Small  \n",
       "4              50        United States of America        Large  \n",
       "..            ...                             ...          ...  \n",
       "602           100        United States of America       Medium  \n",
       "603           100        United States of America       Medium  \n",
       "604             0        United States of America       Medium  \n",
       "605           100        United States of America       Medium  \n",
       "606           100        United States of America        Large  \n",
       "\n",
       "[607 rows x 11 columns]"
      ]
     },
     "execution_count": 4,
     "metadata": {},
     "output_type": "execute_result"
    }
   ],
   "source": [
    "df = pd.read_csv(r'C:\\Users\\flowe\\OneDrive\\Documents\\pythontutorial\\data science salaries\\blancV1.csv')\n",
    "df "
   ]
  },
  {
   "attachments": {},
   "cell_type": "markdown",
   "metadata": {},
   "source": [
    "\n",
    "###### <img src=\"https://lh3.googleusercontent.com/yuUrDV2DAtBRvItHZ2FvXMkPbHR5NEt4kXbpp8dgK-r9jI9-irP19GJb2CvdBRYmy41KG4BxFu2Hod9GzdgGc46iYmm7As4bNNsc-JP7vYwY8d1BzHgZdvKR7H4xtLM20zR9gn0PJE-nQU0navp9Xh0pHc3Cp-CjYUENN7dWZ3NJiw8CiHFEJn7Mc0ul_A\">"
   ]
  },
  {
   "attachments": {},
   "cell_type": "markdown",
   "metadata": {},
   "source": [
    "# Data Science Salaries Project\n",
    "As I make my transition from news media into the tech world, I want to make sure I have some general information about salary, location, work/life balance etc. to get the most out of my job search. Looking over my skills, when I was in university I was fairly good with backend coding and data analysis/web scrapping. \n",
    "\n",
    "After speaking with my professors, they suggested I may want to look into the world of data analysis (working with data to acquire useful information, which can then be used to make informed decisions) or data science (combining math and statistics, specialized programming, advanced analytics, artificial intelligence (AI), and machine learning to uncover actionable insights to guide decision-making and strategic planning for an organization.) \n",
    "\n",
    "Using this dataset from kaggle of [Data Science salaries](https://www.kaggle.com/datasets/ruchi798/data-science-job-salaries) updated in June 2020, let's see what jobs may be available for me.\n"
   ]
  },
  {
   "attachments": {},
   "cell_type": "markdown",
   "metadata": {},
   "source": [
    "No reason to limit ourselves, let's see how endless the possibilities are. Taking a look across all job titles, which ones makes the most on average?"
   ]
  },
  {
   "cell_type": "code",
   "execution_count": 8,
   "metadata": {},
   "outputs": [
    {
     "data": {
      "text/plain": [
       "job_title\n",
       "Data Analytics Lead                         405000.00\n",
       "Principal Data Engineer                     328333.33\n",
       "Financial Data Analyst                      275000.00\n",
       "Principal Data Scientist                    215242.43\n",
       "Director of Data Science                    195074.00\n",
       "Data Architect                              177873.91\n",
       "Applied Data Scientist                      175655.00\n",
       "Analytics Engineer                          175000.00\n",
       "Data Specialist                             165000.00\n",
       "Head of Data                                160162.60\n",
       "Machine Learning Scientist                  158412.50\n",
       "Data Science Manager                        158328.50\n",
       "Director of Data Engineering                156738.00\n",
       "Head of Data Science                        146718.75\n",
       "Applied Machine Learning Scientist          142068.75\n",
       "Lead Data Engineer                          139724.50\n",
       "Data Analytics Manager                      127134.29\n",
       "Cloud Data Engineer                         124647.00\n",
       "Data Engineering Manager                    123227.20\n",
       "Principal Data Analyst                      122500.00\n",
       "ML Engineer                                 117504.00\n",
       "Machine Learning Manager                    117104.00\n",
       "Lead Data Scientist                         115190.00\n",
       "Data Engineer                               112725.00\n",
       "Research Scientist                          109019.50\n",
       "Data Scientist                              108187.83\n",
       "Computer Vision Software Engineer           105248.67\n",
       "Staff Data Scientist                        105000.00\n",
       "Machine Learning Engineer                   104880.15\n",
       "Machine Learning Infrastructure Engineer    101145.00\n",
       "Big Data Architect                           99703.00\n",
       "Data Analyst                                 92893.06\n",
       "Lead Data Analyst                            92203.00\n",
       "Marketing Data Analyst                       88654.00\n",
       "Lead Machine Learning Engineer               87932.00\n",
       "Machine Learning Developer                   85860.67\n",
       "Head of Machine Learning                     79039.00\n",
       "Business Data Analyst                        76691.20\n",
       "Data Science Engineer                        75803.33\n",
       "BI Data Analyst                              74755.17\n",
       "Data Science Consultant                      69420.71\n",
       "AI Scientist                                 66135.57\n",
       "Data Analytics Engineer                      64799.25\n",
       "Finance Data Analyst                         61896.00\n",
       "ETL Developer                                54957.00\n",
       "Big Data Engineer                            51974.00\n",
       "Computer Vision Engineer                     44419.33\n",
       "NLP Engineer                                 37236.00\n",
       "Product Data Analyst                         13036.00\n",
       "3D Computer Vision Researcher                 5409.00\n",
       "Name: salary_in_usd, dtype: float64"
      ]
     },
     "execution_count": 8,
     "metadata": {},
     "output_type": "execute_result"
    }
   ],
   "source": [
    "df.groupby('job_title')['salary_in_usd'].mean().round(2).sort_values(ascending=False)"
   ]
  },
  {
   "attachments": {},
   "cell_type": "markdown",
   "metadata": {},
   "source": [
    "Seeing as right now I have about 2 years of experience, let's see what our entry-level options look like:\n"
   ]
  },
  {
   "cell_type": "code",
   "execution_count": 24,
   "metadata": {},
   "outputs": [
    {
     "data": {
      "text/plain": [
       "job_title\n",
       "Machine Learning Scientist            225000.00\n",
       "Applied Data Scientist                110037.00\n",
       "Computer Vision Software Engineer     110000.00\n",
       "Financial Data Analyst                100000.00\n",
       "Machine Learning Developer            100000.00\n",
       "Machine Learning Engineer              86996.33\n",
       "Research Scientist                     86132.00\n",
       "Business Data Analyst                  79551.00\n",
       "Data Science Consultant                62640.80\n",
       "Data Engineer                          58933.50\n",
       "Data Scientist                         55330.91\n",
       "Computer Vision Engineer               54536.33\n",
       "Data Analyst                           53960.67\n",
       "BI Data Analyst                        32136.00\n",
       "Applied Machine Learning Scientist     31875.00\n",
       "Big Data Engineer                      30703.33\n",
       "AI Scientist                           21987.25\n",
       "Data Analytics Engineer                20000.00\n",
       "ML Engineer                            18974.50\n",
       "Name: salary_in_usd, dtype: float64"
      ]
     },
     "execution_count": 24,
     "metadata": {},
     "output_type": "execute_result"
    }
   ],
   "source": [
    "etl = df.query('experience_level == \"Entry-level\"').groupby('job_title')['salary_in_usd'].mean().round(2).sort_values(ascending=False)\n",
    "etl"
   ]
  },
  {
   "attachments": {},
   "cell_type": "markdown",
   "metadata": {},
   "source": [
    "I've personally become very accustomed to working from home over the past few years, so let's see which positions are the best for *remote work."
   ]
  },
  {
   "cell_type": "code",
   "execution_count": 22,
   "metadata": {},
   "outputs": [
    {
     "data": {
      "text/plain": [
       "job_title\n",
       "Applied Machine Learning Scientist    100.00\n",
       "Machine Learning Scientist            100.00\n",
       "Big Data Engineer                     100.00\n",
       "Business Data Analyst                 100.00\n",
       "ML Engineer                           100.00\n",
       "Computer Vision Software Engineer     100.00\n",
       "Data Engineer                          91.67\n",
       "Data Analyst                           88.89\n",
       "AI Scientist                           87.50\n",
       "Machine Learning Engineer              77.78\n",
       "Data Scientist                         76.47\n",
       "Data Science Consultant                75.00\n",
       "Computer Vision Engineer               75.00\n",
       "BI Data Analyst                        75.00\n",
       "Research Scientist                     66.67\n",
       "Financial Data Analyst                 50.00\n",
       "Machine Learning Developer             50.00\n",
       "Name: remote_ratio, dtype: float64"
      ]
     },
     "execution_count": 22,
     "metadata": {},
     "output_type": "execute_result"
    }
   ],
   "source": [
    "remote = df.query('remote_ratio >= 50 & experience_level == \"Entry-level\"').groupby('job_title')['remote_ratio'].mean().round(2).sort_values(ascending=False)\n",
    "remote\n"
   ]
  },
  {
   "attachments": {},
   "cell_type": "markdown",
   "metadata": {},
   "source": [
    "###### *For this dataset: 0 No remote work (less than 20%) 50 Partially remote 100 Fully remote (more than 80%)"
   ]
  },
  {
   "attachments": {},
   "cell_type": "markdown",
   "metadata": {},
   "source": [
    "Not too bad, at least we've got some ideas of roles to search for on job boards. Now, when it comes to salary distribution, what does that look like across countries for this industry of entry-level Data Science?"
   ]
  },
  {
   "cell_type": "code",
   "execution_count": 23,
   "metadata": {},
   "outputs": [
    {
     "data": {
      "text/plain": [
       "company_location\n",
       "Australia                         118351.50\n",
       "Algeria                           100000.00\n",
       "Iraq                              100000.00\n",
       "China                             100000.00\n",
       "United States of America           93112.90\n",
       "United Kingdom (Great Britain)     65604.60\n",
       "Germany                            57551.82\n",
       "Canada                             57132.00\n",
       "France                             47325.60\n",
       "Netherlands                        42000.00\n",
       "Japan                              41689.00\n",
       "Malaysia                           40000.00\n",
       "Denmark                            37252.50\n",
       "Luxembourg                         34551.00\n",
       "Czech Republic                     31875.00\n",
       "Portugal                           21983.00\n",
       "Colombia                           21844.00\n",
       "Italy                              21669.00\n",
       "Pakistan                           20000.00\n",
       "India                              19629.33\n",
       "American Samoa                     18053.00\n",
       "Ukraine                            13400.00\n",
       "Spain                              10354.00\n",
       "Nigeria                            10000.00\n",
       "Kenya                               9272.00\n",
       "Switzerland                         5882.00\n",
       "Viet Nam                            4000.00\n",
       "Name: salary_in_usd, dtype: float64"
      ]
     },
     "execution_count": 23,
     "metadata": {},
     "output_type": "execute_result"
    }
   ],
   "source": [
    "globalsal = df.query('experience_level == \"Entry-level\"').groupby('company_location')['salary_in_usd'].mean().round(2).sort_values(ascending=False)\n",
    "globalsal "
   ]
  },
  {
   "attachments": {},
   "cell_type": "markdown",
   "metadata": {},
   "source": [
    "Since it doesn't seem like I'll be moving to Australia any time soon, let's stick with the companies located in the U.S. Looking at the job titles, it seems like the categories I'd fall into are either engineer, analyst, or scientist. Let's see what my options are for each of those categories.\n"
   ]
  },
  {
   "cell_type": "code",
   "execution_count": 52,
   "metadata": {},
   "outputs": [
    {
     "data": {
      "text/plain": [
       "job_title\n",
       "Machine Learning Engineer            148500.0\n",
       "Computer Vision Engineer             125000.0\n",
       "Data Engineer                         84375.0\n",
       "Big Data Engineer                     70000.0\n",
       "Computer Vision Software Engineer     70000.0\n",
       "Name: salary_in_usd, dtype: float64"
      ]
     },
     "execution_count": 52,
     "metadata": {},
     "output_type": "execute_result"
    }
   ],
   "source": [
    "engineers = df.query('experience_level == \"Entry-level\" & company_location == \"United States of America\" & job_title.str.contains(\"Engineer\")').groupby('job_title')['salary_in_usd'].mean().round(2).sort_values(ascending=False)\n",
    "engineers"
   ]
  },
  {
   "cell_type": "code",
   "execution_count": 53,
   "metadata": {},
   "outputs": [
    {
     "data": {
      "text/plain": [
       "job_title\n",
       "Business Data Analyst     100000.00\n",
       "Financial Data Analyst    100000.00\n",
       "Data Analyst               73833.33\n",
       "BI Data Analyst            55000.00\n",
       "Name: salary_in_usd, dtype: float64"
      ]
     },
     "execution_count": 53,
     "metadata": {},
     "output_type": "execute_result"
    }
   ],
   "source": [
    "analyst  = df.query('experience_level == \"Entry-level\" & company_location == \"United States of America\" & job_title.str.contains(\"Analyst\")').groupby('job_title')['salary_in_usd'].mean().round(2).sort_values(ascending=False)\n",
    "analyst  "
   ]
  },
  {
   "cell_type": "code",
   "execution_count": 54,
   "metadata": {},
   "outputs": [
    {
     "data": {
      "text/plain": [
       "job_title\n",
       "Machine Learning Scientist    225000.00\n",
       "Research Scientist            120000.00\n",
       "Data Scientist                 88833.33\n",
       "AI Scientist                   12000.00\n",
       "Name: salary_in_usd, dtype: float64"
      ]
     },
     "execution_count": 54,
     "metadata": {},
     "output_type": "execute_result"
    }
   ],
   "source": [
    "scientist  = df.query('experience_level == \"Entry-level\" & company_location == \"United States of America\" & job_title.str.contains(\"Scientist\")').groupby('job_title')['salary_in_usd'].mean().round(2).sort_values(ascending=False)\n",
    "scientist   "
   ]
  },
  {
   "attachments": {},
   "cell_type": "markdown",
   "metadata": {},
   "source": [
    "\n",
    "I wasn't the best at higher-level math or physics in school, so let's drop engineering for now. Leaves us with analyst or scientist. From my prior experience, I'd consider myself a data-savvy person who can communicate data well through visualizations, so it seems like data analyst or scientist might be the way to go. \n",
    "\n",
    "After some research, it seems as though becoming a data analyst (or at least learning the skills of one) is a critical step in being able to transition into the role of a data scientist. Looks like we have a starting point!\n",
    "\n"
   ]
  },
  {
   "attachments": {},
   "cell_type": "markdown",
   "metadata": {},
   "source": [
    "Let's take a look at the average salary for this role across the globe. Hypothetically speaking, if I were to work anywhere, where would I get the best pay?"
   ]
  },
  {
   "cell_type": "code",
   "execution_count": 59,
   "metadata": {},
   "outputs": [
    {
     "data": {
      "text/plain": [
       "company_location\n",
       "United States of America    73833.33\n",
       "Canada                      59500.00\n",
       "France                      59102.00\n",
       "Spain                       10354.00\n",
       "Nigeria                     10000.00\n",
       "India                        6072.00\n",
       "Name: salary_in_usd, dtype: float64"
      ]
     },
     "execution_count": 59,
     "metadata": {},
     "output_type": "execute_result"
    }
   ],
   "source": [
    "bestpay = df.query('job_title == \"Data Analyst\" & experience_level == \"Entry-level\"').groupby('company_location')['salary_in_usd'].mean().round(2).sort_values(ascending=False)\n",
    "bestpay\n"
   ]
  },
  {
   "attachments": {},
   "cell_type": "markdown",
   "metadata": {},
   "source": [
    "As an entry-level employee?\n"
   ]
  },
  {
   "cell_type": "code",
   "execution_count": 58,
   "metadata": {},
   "outputs": [
    {
     "data": {
      "text/plain": [
       "company_location\n",
       "United States of America    73833.33\n",
       "Canada                      59500.00\n",
       "France                      59102.00\n",
       "Spain                       10354.00\n",
       "Nigeria                     10000.00\n",
       "India                        6072.00\n",
       "Name: salary_in_usd, dtype: float64"
      ]
     },
     "execution_count": 58,
     "metadata": {},
     "output_type": "execute_result"
    }
   ],
   "source": [
    "bestpay = df.query('job_title == \"Data Analyst\" & experience_level == \"Entry-level\"').groupby('company_location')['salary_in_usd'].mean().round(2).sort_values(ascending=False)\n",
    "bestpay"
   ]
  },
  {
   "attachments": {},
   "cell_type": "markdown",
   "metadata": {},
   "source": [
    "I'd say my odds look pretty good for this role in the U.S. When it comes to negotiating salaries, I'd like to know what range I could be expecting/should be asking for when asked in applications and by recruiters. Let's take a look at what my salary in the U.S. might look like, depending on my experience?\n"
   ]
  },
  {
   "cell_type": "code",
   "execution_count": 58,
   "metadata": {},
   "outputs": [
    {
     "data": {
      "text/plain": [
       "experience_level\n",
       "Executive-level    120000.00\n",
       "Senior-level       115116.77\n",
       "Mid-level           95750.67\n",
       "Entry-level         73833.33\n",
       "Name: salary_in_usd, dtype: float64"
      ]
     },
     "execution_count": 58,
     "metadata": {},
     "output_type": "execute_result"
    }
   ],
   "source": [
    "experience = df.query('job_title == \"Data Analyst\" & company_location == \"United States of America\" ').groupby('experience_level')['salary_in_usd'].mean().round(2).sort_values(ascending=False)\n",
    "experience"
   ]
  },
  {
   "attachments": {},
   "cell_type": "markdown",
   "metadata": {},
   "source": [
    "It looks like $74,000 - 90,000 seems like a safe ballpark. Since I'm just starting in the industry, should I jump right in a start applying to full-time positions? Or maybe get my feet wet with a part-time or contractual role? \n"
   ]
  },
  {
   "cell_type": "code",
   "execution_count": 56,
   "metadata": {},
   "outputs": [
    {
     "data": {
      "text/plain": [
       "employment_type\n",
       "Full-time    73833.33\n",
       "Name: salary_in_usd, dtype: float64"
      ]
     },
     "execution_count": 56,
     "metadata": {},
     "output_type": "execute_result"
    }
   ],
   "source": [
    "position = df.query('job_title == \"Data Analyst\" & company_location == \"United States of America\" & experience_level == \"Entry-level\"').groupby('employment_type')['salary_in_usd'].mean().round(2).sort_values(ascending=False)\n",
    "position "
   ]
  },
  {
   "attachments": {},
   "cell_type": "markdown",
   "metadata": {},
   "source": [
    "As a full time data analyst in the U.S., I could make am average of $107k. Unfortunately, it doesn't look like we have any part-time or contractual roles in our dataset to compare it to (while they definitely exist). "
   ]
  },
  {
   "attachments": {},
   "cell_type": "markdown",
   "metadata": {},
   "source": [
    "\n",
    "What about the size of the company I'm applying to? Large companies can be known for large salaries, but I've heard sometimes it's smaller start-ups with the better pay.\n"
   ]
  },
  {
   "cell_type": "code",
   "execution_count": 55,
   "metadata": {},
   "outputs": [
    {
     "data": {
      "text/plain": [
       "company_size\n",
       "Large     81500.0\n",
       "Small     75000.0\n",
       "Medium    65000.0\n",
       "Name: salary_in_usd, dtype: float64"
      ]
     },
     "execution_count": 55,
     "metadata": {},
     "output_type": "execute_result"
    }
   ],
   "source": [
    "size = df.query('job_title == \"Data Analyst\" & company_location == \"United States of America\" & experience_level == \"Entry-level\"').groupby('company_size')['salary_in_usd'].mean().round(2).sort_values(ascending=False)\n",
    "size"
   ]
  },
  {
   "attachments": {},
   "cell_type": "markdown",
   "metadata": {},
   "source": [
    "######  (For this dataset less: than 50 employees (small), 50 to 250 employees (medium), more than 250 employees (large))"
   ]
  },
  {
   "attachments": {},
   "cell_type": "markdown",
   "metadata": {},
   "source": [
    "Seems like somewhere in between would be a good fit for me. \n",
    "\n",
    "So it looks like I'll be searching for remote Data Analyst roles in the U.S. at relatively medium/large-sized companies. I think I'm ready to begin my job search!"
   ]
  },
  {
   "attachments": {},
   "cell_type": "markdown",
   "metadata": {},
   "source": [
    "###### *For further analysis, I would find data for salaries, remote ratio, company demographics and pay by gender of data analysts in different cities throughout the U.S. and compare them to narrow the search."
   ]
  }
 ],
 "metadata": {
  "kernelspec": {
   "display_name": "base",
   "language": "python",
   "name": "python3"
  },
  "language_info": {
   "codemirror_mode": {
    "name": "ipython",
    "version": 3
   },
   "file_extension": ".py",
   "mimetype": "text/x-python",
   "name": "python",
   "nbconvert_exporter": "python",
   "pygments_lexer": "ipython3",
   "version": "3.10.8"
  },
  "orig_nbformat": 4,
  "vscode": {
   "interpreter": {
    "hash": "0ec4f738f3836606823b7ea641985b15683ad8e1b4b3c130bf74d8343c8490e2"
   }
  }
 },
 "nbformat": 4,
 "nbformat_minor": 2
}
